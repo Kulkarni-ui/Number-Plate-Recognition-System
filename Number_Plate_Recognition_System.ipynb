{
  "nbformat": 4,
  "nbformat_minor": 0,
  "metadata": {
    "colab": {
      "provenance": []
    },
    "kernelspec": {
      "name": "python3",
      "display_name": "Python 3"
    },
    "language_info": {
      "name": "python"
    }
  },
  "cells": [
    {
      "cell_type": "markdown",
      "source": [
        "**DATASET : THE DATASET IS TAKEN FROM KAGGLE WHICH IS CONSISTING 433 IMAGES OF CAR'S NUMBER PLATE.**"
      ],
      "metadata": {
        "id": "PVEBu8N-kafh"
      }
    },
    {
      "cell_type": "markdown",
      "source": [
        "#1. Detect and extract number plates from input"
      ],
      "metadata": {
        "id": "-cgb6frYWBr5"
      }
    },
    {
      "cell_type": "markdown",
      "source": [
        "**opencv-python: This is the Python binding for OpenCV — an open-source computer vision library used for image and video processing**.\n",
        "\n",
        "**pytesseract: A Python wrapper for the Tesseract OCR engine, allowing you to run OCR on images.**\n",
        "\n",
        "**tesseract-ocr: The core OCR engine**.\n",
        "\n",
        "**libtesseract-dev: Development files for integrating Tesseract into apps (used internally by pytesseract).**"
      ],
      "metadata": {
        "id": "3x1VjzNClRCe"
      }
    },
    {
      "cell_type": "code",
      "source": [
        "# Install required libraries\n",
        "!pip install opencv-python pytesseract\n",
        "\n",
        "# Install Tesseract OCR in Colab\n",
        "!apt install tesseract-ocr -y\n",
        "!apt install libtesseract-dev -y\n",
        "\n",
        "# Import required libraries\n",
        "import cv2\n",
        "import pytesseract\n",
        "import os\n",
        "from google.colab.patches import cv2_imshow\n",
        "\n",
        "# Set Tesseract path\n",
        "pytesseract.pytesseract.tesseract_cmd = \"/usr/bin/tesseract\""
      ],
      "metadata": {
        "colab": {
          "base_uri": "https://localhost:8080/"
        },
        "id": "hc6wq5sYWpFu",
        "outputId": "8d99edb1-a631-46a2-9705-5b7d0d68af12"
      },
      "execution_count": null,
      "outputs": [
        {
          "output_type": "stream",
          "name": "stdout",
          "text": [
            "Requirement already satisfied: opencv-python in /usr/local/lib/python3.11/dist-packages (4.11.0.86)\n",
            "Requirement already satisfied: pytesseract in /usr/local/lib/python3.11/dist-packages (0.3.13)\n",
            "Requirement already satisfied: numpy>=1.21.2 in /usr/local/lib/python3.11/dist-packages (from opencv-python) (2.0.2)\n",
            "Requirement already satisfied: packaging>=21.3 in /usr/local/lib/python3.11/dist-packages (from pytesseract) (24.2)\n",
            "Requirement already satisfied: Pillow>=8.0.0 in /usr/local/lib/python3.11/dist-packages (from pytesseract) (11.2.1)\n",
            "Reading package lists... Done\n",
            "Building dependency tree... Done\n",
            "Reading state information... Done\n",
            "tesseract-ocr is already the newest version (4.1.1-2.1build1).\n",
            "0 upgraded, 0 newly installed, 0 to remove and 35 not upgraded.\n",
            "Reading package lists... Done\n",
            "Building dependency tree... Done\n",
            "Reading state information... Done\n",
            "libtesseract-dev is already the newest version (4.1.1-2.1build1).\n",
            "0 upgraded, 0 newly installed, 0 to remove and 35 not upgraded.\n"
          ]
        }
      ]
    },
    {
      "cell_type": "code",
      "source": [
        "import matplotlib.pyplot as plt\n",
        "from google.colab import files\n",
        "uploaded = files.upload()"
      ],
      "metadata": {
        "colab": {
          "base_uri": "https://localhost:8080/",
          "height": 73
        },
        "id": "cewa7I2Fd6VW",
        "outputId": "43829637-fa86-41ab-90e2-77ce3f6bed5b"
      },
      "execution_count": null,
      "outputs": [
        {
          "output_type": "display_data",
          "data": {
            "text/plain": [
              "<IPython.core.display.HTML object>"
            ],
            "text/html": [
              "\n",
              "     <input type=\"file\" id=\"files-65db6cf4-3aee-4dc4-ab87-0727af77bd07\" name=\"files[]\" multiple disabled\n",
              "        style=\"border:none\" />\n",
              "     <output id=\"result-65db6cf4-3aee-4dc4-ab87-0727af77bd07\">\n",
              "      Upload widget is only available when the cell has been executed in the\n",
              "      current browser session. Please rerun this cell to enable.\n",
              "      </output>\n",
              "      <script>// Copyright 2017 Google LLC\n",
              "//\n",
              "// Licensed under the Apache License, Version 2.0 (the \"License\");\n",
              "// you may not use this file except in compliance with the License.\n",
              "// You may obtain a copy of the License at\n",
              "//\n",
              "//      http://www.apache.org/licenses/LICENSE-2.0\n",
              "//\n",
              "// Unless required by applicable law or agreed to in writing, software\n",
              "// distributed under the License is distributed on an \"AS IS\" BASIS,\n",
              "// WITHOUT WARRANTIES OR CONDITIONS OF ANY KIND, either express or implied.\n",
              "// See the License for the specific language governing permissions and\n",
              "// limitations under the License.\n",
              "\n",
              "/**\n",
              " * @fileoverview Helpers for google.colab Python module.\n",
              " */\n",
              "(function(scope) {\n",
              "function span(text, styleAttributes = {}) {\n",
              "  const element = document.createElement('span');\n",
              "  element.textContent = text;\n",
              "  for (const key of Object.keys(styleAttributes)) {\n",
              "    element.style[key] = styleAttributes[key];\n",
              "  }\n",
              "  return element;\n",
              "}\n",
              "\n",
              "// Max number of bytes which will be uploaded at a time.\n",
              "const MAX_PAYLOAD_SIZE = 100 * 1024;\n",
              "\n",
              "function _uploadFiles(inputId, outputId) {\n",
              "  const steps = uploadFilesStep(inputId, outputId);\n",
              "  const outputElement = document.getElementById(outputId);\n",
              "  // Cache steps on the outputElement to make it available for the next call\n",
              "  // to uploadFilesContinue from Python.\n",
              "  outputElement.steps = steps;\n",
              "\n",
              "  return _uploadFilesContinue(outputId);\n",
              "}\n",
              "\n",
              "// This is roughly an async generator (not supported in the browser yet),\n",
              "// where there are multiple asynchronous steps and the Python side is going\n",
              "// to poll for completion of each step.\n",
              "// This uses a Promise to block the python side on completion of each step,\n",
              "// then passes the result of the previous step as the input to the next step.\n",
              "function _uploadFilesContinue(outputId) {\n",
              "  const outputElement = document.getElementById(outputId);\n",
              "  const steps = outputElement.steps;\n",
              "\n",
              "  const next = steps.next(outputElement.lastPromiseValue);\n",
              "  return Promise.resolve(next.value.promise).then((value) => {\n",
              "    // Cache the last promise value to make it available to the next\n",
              "    // step of the generator.\n",
              "    outputElement.lastPromiseValue = value;\n",
              "    return next.value.response;\n",
              "  });\n",
              "}\n",
              "\n",
              "/**\n",
              " * Generator function which is called between each async step of the upload\n",
              " * process.\n",
              " * @param {string} inputId Element ID of the input file picker element.\n",
              " * @param {string} outputId Element ID of the output display.\n",
              " * @return {!Iterable<!Object>} Iterable of next steps.\n",
              " */\n",
              "function* uploadFilesStep(inputId, outputId) {\n",
              "  const inputElement = document.getElementById(inputId);\n",
              "  inputElement.disabled = false;\n",
              "\n",
              "  const outputElement = document.getElementById(outputId);\n",
              "  outputElement.innerHTML = '';\n",
              "\n",
              "  const pickedPromise = new Promise((resolve) => {\n",
              "    inputElement.addEventListener('change', (e) => {\n",
              "      resolve(e.target.files);\n",
              "    });\n",
              "  });\n",
              "\n",
              "  const cancel = document.createElement('button');\n",
              "  inputElement.parentElement.appendChild(cancel);\n",
              "  cancel.textContent = 'Cancel upload';\n",
              "  const cancelPromise = new Promise((resolve) => {\n",
              "    cancel.onclick = () => {\n",
              "      resolve(null);\n",
              "    };\n",
              "  });\n",
              "\n",
              "  // Wait for the user to pick the files.\n",
              "  const files = yield {\n",
              "    promise: Promise.race([pickedPromise, cancelPromise]),\n",
              "    response: {\n",
              "      action: 'starting',\n",
              "    }\n",
              "  };\n",
              "\n",
              "  cancel.remove();\n",
              "\n",
              "  // Disable the input element since further picks are not allowed.\n",
              "  inputElement.disabled = true;\n",
              "\n",
              "  if (!files) {\n",
              "    return {\n",
              "      response: {\n",
              "        action: 'complete',\n",
              "      }\n",
              "    };\n",
              "  }\n",
              "\n",
              "  for (const file of files) {\n",
              "    const li = document.createElement('li');\n",
              "    li.append(span(file.name, {fontWeight: 'bold'}));\n",
              "    li.append(span(\n",
              "        `(${file.type || 'n/a'}) - ${file.size} bytes, ` +\n",
              "        `last modified: ${\n",
              "            file.lastModifiedDate ? file.lastModifiedDate.toLocaleDateString() :\n",
              "                                    'n/a'} - `));\n",
              "    const percent = span('0% done');\n",
              "    li.appendChild(percent);\n",
              "\n",
              "    outputElement.appendChild(li);\n",
              "\n",
              "    const fileDataPromise = new Promise((resolve) => {\n",
              "      const reader = new FileReader();\n",
              "      reader.onload = (e) => {\n",
              "        resolve(e.target.result);\n",
              "      };\n",
              "      reader.readAsArrayBuffer(file);\n",
              "    });\n",
              "    // Wait for the data to be ready.\n",
              "    let fileData = yield {\n",
              "      promise: fileDataPromise,\n",
              "      response: {\n",
              "        action: 'continue',\n",
              "      }\n",
              "    };\n",
              "\n",
              "    // Use a chunked sending to avoid message size limits. See b/62115660.\n",
              "    let position = 0;\n",
              "    do {\n",
              "      const length = Math.min(fileData.byteLength - position, MAX_PAYLOAD_SIZE);\n",
              "      const chunk = new Uint8Array(fileData, position, length);\n",
              "      position += length;\n",
              "\n",
              "      const base64 = btoa(String.fromCharCode.apply(null, chunk));\n",
              "      yield {\n",
              "        response: {\n",
              "          action: 'append',\n",
              "          file: file.name,\n",
              "          data: base64,\n",
              "        },\n",
              "      };\n",
              "\n",
              "      let percentDone = fileData.byteLength === 0 ?\n",
              "          100 :\n",
              "          Math.round((position / fileData.byteLength) * 100);\n",
              "      percent.textContent = `${percentDone}% done`;\n",
              "\n",
              "    } while (position < fileData.byteLength);\n",
              "  }\n",
              "\n",
              "  // All done.\n",
              "  yield {\n",
              "    response: {\n",
              "      action: 'complete',\n",
              "    }\n",
              "  };\n",
              "}\n",
              "\n",
              "scope.google = scope.google || {};\n",
              "scope.google.colab = scope.google.colab || {};\n",
              "scope.google.colab._files = {\n",
              "  _uploadFiles,\n",
              "  _uploadFilesContinue,\n",
              "};\n",
              "})(self);\n",
              "</script> "
            ]
          },
          "metadata": {}
        },
        {
          "output_type": "stream",
          "name": "stdout",
          "text": [
            "Saving Cars0.png to Cars0 (1).png\n"
          ]
        }
      ]
    },
    {
      "cell_type": "markdown",
      "source": [
        "#2.Recognize and interpret alphanumeric characters on the plates.\n"
      ],
      "metadata": {
        "id": "bHf1dQRijtmT"
      }
    },
    {
      "cell_type": "code",
      "source": [
        "def detect_and_crop_plate(image):\n",
        "    gray = cv2.cvtColor(image, cv2.COLOR_BGR2GRAY)\n",
        "    blur = cv2.bilateralFilter(gray, 11, 17, 17)\n",
        "    edged = cv2.Canny(blur, 30, 200)\n",
        "\n",
        "    contours, _ = cv2.findContours(edged, cv2.RETR_TREE, cv2.CHAIN_APPROX_SIMPLE)\n",
        "    contours = sorted(contours, key=cv2.contourArea, reverse=True)[:10]\n",
        "\n",
        "    for c in contours:\n",
        "        approx = cv2.approxPolyDP(c, 0.018 * cv2.arcLength(c, True), True)\n",
        "        if len(approx) == 4:\n",
        "            x, y, w, h = cv2.boundingRect(approx)\n",
        "            return image[y:y + h, x:x + w]\n",
        "    return None"
      ],
      "metadata": {
        "id": "gH5nQ-UJW1jV"
      },
      "execution_count": null,
      "outputs": []
    },
    {
      "cell_type": "markdown",
      "source": [
        "#3.Handle challenges like lighting and angles."
      ],
      "metadata": {
        "id": "InDqAdhJW9Kv"
      }
    },
    {
      "cell_type": "code",
      "source": [
        "def preprocess_and_recognize(plate_img):\n",
        "    gray = cv2.cvtColor(plate_img, cv2.COLOR_BGR2GRAY)\n",
        "    _, thresh = cv2.threshold(gray, 150, 255, cv2.THRESH_BINARY + cv2.THRESH_OTSU)\n",
        "\n",
        "    # Apply dilation/erosion if needed\n",
        "    text = pytesseract.image_to_string(thresh, config='--psm 8')\n",
        "    return text.strip()"
      ],
      "metadata": {
        "id": "Cz20UDP6W7lK"
      },
      "execution_count": null,
      "outputs": []
    },
    {
      "cell_type": "code",
      "source": [
        "# Run the full pipeline on all uploaded images\n",
        "for filename in uploaded.keys():\n",
        "    print(f\"\\nProcessing: {filename}\")\n",
        "    img = cv2.imread(filename)\n",
        "    plate = detect_and_crop_plate(img)\n",
        "\n",
        "    if plate is not None:\n",
        "        text = preprocess_and_recognize(plate)\n",
        "        print(f\"Detected Plate Text: {text}\")\n",
        "        cv2_imshow(plate)\n",
        "    else:\n",
        "        print(\"Number plate not detected.\")"
      ],
      "metadata": {
        "colab": {
          "base_uri": "https://localhost:8080/",
          "height": 122
        },
        "id": "AMkO3l-0XDAn",
        "outputId": "d534b059-c790-44e6-dc37-5d77622e1b26"
      },
      "execution_count": null,
      "outputs": [
        {
          "output_type": "stream",
          "name": "stdout",
          "text": [
            "\n",
            "Processing: Cars0 (1).png\n",
            "Detected Plate Text: KEG1CA2595\n"
          ]
        },
        {
          "output_type": "display_data",
          "data": {
            "text/plain": [
              "<PIL.Image.Image image mode=RGB size=169x53>"
            ],
            "image/png": "[encoded data removed]",
            "image/jpeg": "[encoded data removed]"
          },
          "metadata": {}
        }
      ]
    },
    {
      "cell_type": "markdown",
      "source": [
        "#4.Evaluation metrics"
      ],
      "metadata": {
        "id": "YZc2s5dpeoih"
      }
    },
    {
      "cell_type": "code",
      "source": [
        "# Simple IoU for one box\n",
        "def iou(boxA, boxB):\n",
        "    xA = max(boxA[0], boxB[0])\n",
        "    yA = max(boxA[1], boxB[1])\n",
        "    xB = min(boxA[0]+boxA[2], boxB[0]+boxB[2])\n",
        "    yB = min(boxA[1]+boxA[3], boxB[1]+boxB[3])\n",
        "\n",
        "    interArea = max(0, xB - xA) * max(0, yB - yA)\n",
        "    boxAArea = boxA[2] * boxA[3]\n",
        "    boxBArea = boxB[2] * boxB[3]\n",
        "\n",
        "    return interArea / (boxAArea + boxBArea - interArea) if (boxAArea + boxBArea - interArea) > 0 else 0\n",
        "\n",
        "# Simple character accuracy\n",
        "def char_accuracy(pred, true):\n",
        "    matches = sum(p == t for p, t in zip(pred, true))\n",
        "    return matches / max(len(true),1)\n",
        "\n",
        "# Simple word accuracy (exact match)\n",
        "def word_accuracy(pred, true):\n",
        "    return int(pred == true)\n",
        "\n",
        "# Example usage:\n",
        "pred_boxes = [(50,30,100,40)]   # predicted bounding boxes\n",
        "true_boxes = [(48,28,102,42)]   # ground truth boxes\n",
        "\n",
        "pred_texts = [\"KEG1CA2595\"]         # predicted plate texts\n",
        "true_texts = [\"KEG1CA2595\"]         # ground truth texts\n",
        "\n",
        "print(\"IoU:\", iou(pred_boxes[0], true_boxes[0]))\n",
        "print(\"Character Accuracy:\", char_accuracy(pred_texts[0], true_texts[0]))\n",
        "print(\"Word Accuracy:\", word_accuracy(pred_texts[0], true_texts[0]))\n"
      ],
      "metadata": {
        "colab": {
          "base_uri": "https://localhost:8080/"
        },
        "id": "YDqgf7-Tfs1z",
        "outputId": "e21331fd-d221-4896-9bb2-2fb5132f3dc0"
      },
      "execution_count": null,
      "outputs": [
        {
          "output_type": "stream",
          "name": "stdout",
          "text": [
            "IoU: 0.9337068160597572\n",
            "Character Accuracy: 1.0\n",
            "Word Accuracy: 1\n"
          ]
        }
      ]
    },
    {
      "cell_type": "code",
      "source": [],
      "metadata": {
        "id": "Nsr96PFWhYBg"
      },
      "execution_count": null,
      "outputs": []
    }
  ]
}